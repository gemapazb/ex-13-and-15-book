{
 "cells": [
  {
   "cell_type": "code",
   "execution_count": 31,
   "id": "34a1b388",
   "metadata": {},
   "outputs": [],
   "source": [
    "#13. Calendars and Clocks\n",
    "#13.1 Write the current date as a string to the text file today.txt.\n",
    "\n",
    "from datetime import date\n",
    "\n",
    "now = date.today()\n",
    "now_str = now.isoformat()\n",
    "\n",
    "with open('today.txt', 'wt') as output:\n",
    "    print(now_str, file=output)\n"
   ]
  },
  {
   "cell_type": "code",
   "execution_count": 32,
   "id": "42a4f668",
   "metadata": {},
   "outputs": [
    {
     "data": {
      "text/plain": [
       "'2023-04-26\\n'"
      ]
     },
     "execution_count": 32,
     "metadata": {},
     "output_type": "execute_result"
    }
   ],
   "source": [
    " #13.2 Read the text file today.txt into the string today_string\n",
    "    \n",
    "with open('today.txt', 'rt') as input:\n",
    "    today_string = input.read()\n",
    "\n",
    "today_string\n"
   ]
  },
  {
   "cell_type": "code",
   "execution_count": 33,
   "id": "507e6d67",
   "metadata": {},
   "outputs": [
    {
     "data": {
      "text/plain": [
       "datetime.datetime(2023, 4, 26, 0, 0)"
      ]
     },
     "execution_count": 33,
     "metadata": {},
     "output_type": "execute_result"
    }
   ],
   "source": [
    "#13.3 Parse the date from today_string.\n",
    "fmt = '%Y-%m-%d\\n'\n",
    "datetime.strptime(today_string, fmt)\n"
   ]
  },
  {
   "cell_type": "code",
   "execution_count": null,
   "id": "4c62e60e",
   "metadata": {},
   "outputs": [],
   "source": [
    "#15. Data in Time: Processes and Concurrency\n",
    "#15.1 Use multiprocessing to create three separate processes. \n",
    "#Make each one wait a random number of seconds between zero and one, print the current time, and then exit.\n",
    "\n",
    "import multiprocessing\n",
    "\n",
    "def now(seconds):\n",
    "    from datetime import datetime\n",
    "    from time import sleep\n",
    "    sleep(seconds)\n",
    "    print('wait', seconds, 'seconds, time is', datetime.utcnow())\n",
    "\n",
    "if __name__ == '__main__':\n",
    "    import random\n",
    "    for n in range(3):\n",
    "        seconds = random.random()\n",
    "        proc = multiprocessing.Process(target=now, args=(seconds,))\n",
    "        proc.start()\n",
    "### unable to print processes not sure why \n"
   ]
  },
  {
   "cell_type": "code",
   "execution_count": null,
   "id": "0c24ef1d",
   "metadata": {},
   "outputs": [],
   "source": []
  }
 ],
 "metadata": {
  "kernelspec": {
   "display_name": "Python 3 (ipykernel)",
   "language": "python",
   "name": "python3"
  },
  "language_info": {
   "codemirror_mode": {
    "name": "ipython",
    "version": 3
   },
   "file_extension": ".py",
   "mimetype": "text/x-python",
   "name": "python",
   "nbconvert_exporter": "python",
   "pygments_lexer": "ipython3",
   "version": "3.9.13"
  }
 },
 "nbformat": 4,
 "nbformat_minor": 5
}
